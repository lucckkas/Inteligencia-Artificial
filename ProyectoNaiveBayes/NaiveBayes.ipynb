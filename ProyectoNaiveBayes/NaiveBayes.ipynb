{
 "cells": [
  {
   "cell_type": "markdown",
   "metadata": {},
   "source": [
    "To be done in groups of 2 students.\n",
    "\n",
    "You have two choices:\n",
    "\n",
    "1) Choose a data set from the  UCI Machine Learning Repository (http://archive.ics.uci.edu/ml/index.php) and a Machine Learning algorithm. Implement the algorithm and train it with your chosen data set to have the best performance over unseen data.\n",
    "2) Choose a task appropriate for a machine learning and an algorithm to learn it. Implement the algorithm and train it for the task to have the best performance.\n",
    "\n",
    "We chose the first option. We chose the data set \"Spambase Data Set\" from the UCI Machine Learning Repository and the algorithm \"Naive Bayes\". The data set can be found here: https://archive.ics.uci.edu/dataset/94/spambase"
   ]
  },
  {
   "cell_type": "markdown",
   "metadata": {},
   "source": [
    "1. Import libraries"
   ]
  },
  {
   "cell_type": "code",
   "execution_count": 2,
   "metadata": {},
   "outputs": [],
   "source": [
    "import numpy as np\n",
    "import pandas as pd"
   ]
  },
  {
   "cell_type": "markdown",
   "metadata": {},
   "source": [
    " 2. Load data"
   ]
  },
  {
   "cell_type": "code",
   "execution_count": 3,
   "metadata": {},
   "outputs": [],
   "source": [
    "from ucimlrepo import fetch_ucirepo \n",
    "\n",
    "# fetch dataset \n",
    "spambase = fetch_ucirepo(id=94) \n",
    "  \n",
    "# data (as pandas dataframes) \n",
    "X = spambase.data.features \n",
    "y = spambase.data.targets \n",
    "\n"
   ]
  },
  {
   "cell_type": "markdown",
   "metadata": {},
   "source": [
    "3. Preprocessing"
   ]
  },
  {
   "cell_type": "code",
   "execution_count": 4,
   "metadata": {},
   "outputs": [],
   "source": [
    "# convert to numpy arrays\n",
    "X = np.array(X)\n",
    "y = np.array(y)\n",
    "\n",
    "# reshape y to 1d array\n",
    "y = y.ravel()\n"
   ]
  },
  {
   "cell_type": "markdown",
   "metadata": {},
   "source": [
    "4. Implement Naive Bayes"
   ]
  },
  {
   "cell_type": "code",
   "execution_count": 5,
   "metadata": {},
   "outputs": [],
   "source": [
    "def calculate_prior(df, Y):\n",
    "    classes = sorted(list(df[Y].unique()))\n",
    "    prior = []\n",
    "    for i in classes:\n",
    "        prior.append(len(df[df[Y]==i])/len(df))\n",
    "    return prior\n",
    "\n",
    "def precompute_stats(df, features, Y):\n",
    "    stats = {}\n",
    "    for feat in features:\n",
    "        groups = df.groupby(Y)[feat]\n",
    "        stats[feat] = groups.agg(['mean', 'std'])\n",
    "    return stats\n",
    "\n",
    "def calculate_likelihood_gaussian_optimized(feat_val, mean, std):\n",
    "    p_x_given_y = (1 / (np.sqrt(2 * np.pi) * std)) *  np.exp(-((feat_val-mean)**2 / (2 * std**2 )))\n",
    "    return p_x_given_y\n",
    "\n",
    "def naive_bayes_gaussian(df, X, Y):\n",
    "    features = df.columns[:-1]\n",
    "    labels = df[Y].unique()\n",
    "    prior = calculate_prior(df, Y)\n",
    "    stats = precompute_stats(df, features, Y)\n",
    "\n",
    "    Y_pred = []\n",
    "    for x in X:\n",
    "        likelihood = np.ones(len(labels))\n",
    "        for feat, val in zip(features, x):\n",
    "            for i, label in enumerate(labels):\n",
    "                mean, std = stats[feat].loc[label]\n",
    "                likelihood[i] *= calculate_likelihood_gaussian_optimized(val, mean, std)\n",
    "        post_prob = likelihood * prior\n",
    "        Y_pred.append(labels[np.argmax(post_prob)])\n",
    "\n",
    "    return np.array(Y_pred)\n"
   ]
  },
  {
   "cell_type": "markdown",
   "metadata": {},
   "source": [
    "4. Train and test the model"
   ]
  },
  {
   "cell_type": "code",
   "execution_count": 8,
   "metadata": {},
   "outputs": [
    {
     "name": "stdout",
     "output_type": "stream",
     "text": [
      "Naive Bayes classification report\n",
      "              precision    recall  f1-score   support\n",
      "\n",
      "           0       0.94      0.74      0.83       531\n",
      "           1       0.72      0.94      0.82       390\n",
      "\n",
      "    accuracy                           0.82       921\n",
      "   macro avg       0.83      0.84      0.82       921\n",
      "weighted avg       0.85      0.82      0.82       921\n",
      "\n",
      "------------------------------------------\n",
      "Sklearn's Naive Bayes classification report\n",
      "              precision    recall  f1-score   support\n",
      "\n",
      "           0       0.95      0.73      0.82       531\n",
      "           1       0.72      0.95      0.82       390\n",
      "\n",
      "    accuracy                           0.82       921\n",
      "   macro avg       0.83      0.84      0.82       921\n",
      "weighted avg       0.85      0.82      0.82       921\n",
      "\n"
     ]
    }
   ],
   "source": [
    "# split data into train and test sets, make sure to have spam and non-spam in both sets\n",
    "from sklearn.model_selection import train_test_split\n",
    "# transform spambaes to pandas dataframe\n",
    "data = pd.DataFrame(X)\n",
    "data['spam'] = y\n",
    "train, test = train_test_split(data, test_size=0.2, random_state=42)\n",
    "\n",
    "# train model\n",
    "X_test = test.iloc[:,:-1].values\n",
    "y_test = test.iloc[:,-1].values\n",
    "X_train = train.iloc[:,:-1].values\n",
    "y_train = train.iloc[:,-1].values\n",
    "\n",
    "predictions = naive_bayes_gaussian(train, X_test, 'spam')\n",
    "\n",
    "# evaluate model\n",
    "# other metrics: precision, recall, f1-score, etc.\n",
    "print(\"Naive Bayes classification report\")\n",
    "from sklearn.metrics import classification_report\n",
    "print(classification_report(y_test, predictions))\n",
    "\n",
    "\n",
    "# compare with sklearn's implementation\n",
    "from sklearn.naive_bayes import GaussianNB\n",
    "gnb = GaussianNB()\n",
    "gnb.fit(X_train, y_train)\n",
    "predictions = gnb.predict(X_test)\n",
    "print(\"------------------------------------------\")\n",
    "print(\"Sklearn's Naive Bayes classification report\")\n",
    "print(classification_report(y_test, predictions))\n",
    "\n"
   ]
  },
  {
   "cell_type": "code",
   "execution_count": null,
   "metadata": {},
   "outputs": [],
   "source": []
  }
 ],
 "metadata": {
  "kernelspec": {
   "display_name": "Python 3",
   "language": "python",
   "name": "python3"
  },
  "language_info": {
   "codemirror_mode": {
    "name": "ipython",
    "version": 3
   },
   "file_extension": ".py",
   "mimetype": "text/x-python",
   "name": "python",
   "nbconvert_exporter": "python",
   "pygments_lexer": "ipython3",
   "version": "3.10.11"
  }
 },
 "nbformat": 4,
 "nbformat_minor": 2
}
