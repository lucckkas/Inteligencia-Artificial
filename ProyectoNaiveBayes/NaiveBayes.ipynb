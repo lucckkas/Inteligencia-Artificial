{
 "cells": [
  {
   "cell_type": "markdown",
   "metadata": {},
   "source": [
    "To be done in groups of 2 students.\n",
    "\n",
    "You have two choices:\n",
    "\n",
    "1) Choose a data set from the  UCI Machine Learning Repository (http://archive.ics.uci.edu/ml/index.php) and a Machine Learning algorithm. Implement the algorithm and train it with your chosen data set to have the best performance over unseen data.\n",
    "2) Choose a task appropriate for a machine learning and an algorithm to learn it. Implement the algorithm and train it for the task to have the best performance.\n",
    "\n",
    "We chose the first option. We chose the data set \"Spambase Data Set\" from the UCI Machine Learning Repository and the algorithm \"Naive Bayes\". The data set can be found here: https://archive.ics.uci.edu/dataset/94/spambase"
   ]
  },
  {
   "cell_type": "markdown",
   "metadata": {},
   "source": [
    "1. Import libraries"
   ]
  },
  {
   "cell_type": "code",
   "execution_count": 74,
   "metadata": {},
   "outputs": [],
   "source": [
    "import numpy as np\n",
    "import pandas as pd"
   ]
  },
  {
   "cell_type": "markdown",
   "metadata": {},
   "source": [
    " 2. Load data"
   ]
  },
  {
   "cell_type": "code",
   "execution_count": 75,
   "metadata": {},
   "outputs": [],
   "source": [
    "from ucimlrepo import fetch_ucirepo \n",
    "\n",
    "# fetch dataset \n",
    "spambase = fetch_ucirepo(id=94) \n",
    "  \n",
    "# data (as pandas dataframes) \n",
    "X = spambase.data.features \n",
    "y = spambase.data.targets \n",
    "\n"
   ]
  },
  {
   "cell_type": "markdown",
   "metadata": {},
   "source": [
    "3. Preprocessing"
   ]
  },
  {
   "cell_type": "code",
   "execution_count": 76,
   "metadata": {},
   "outputs": [],
   "source": [
    "# convert to numpy arrays\n",
    "X = np.array(X)\n",
    "y = np.array(y)\n",
    "\n",
    "# reshape y to 1d array\n",
    "y = y.ravel()\n"
   ]
  },
  {
   "cell_type": "markdown",
   "metadata": {},
   "source": [
    "4. Implement Naive Bayes"
   ]
  },
  {
   "cell_type": "code",
   "execution_count": 77,
   "metadata": {},
   "outputs": [],
   "source": [
    "def calculate_prior(df, Y):\n",
    "    classes = sorted(list(df[Y].unique()))\n",
    "    prior = []\n",
    "    for i in classes:\n",
    "        prior.append(len(df[df[Y]==i])/len(df))\n",
    "    return prior\n",
    "\n",
    "def calculate_likelihood_gaussian(df, feat_name, feat_val, Y, label):\n",
    "    feat = list(df.columns)\n",
    "    df = df[df[Y]==label]\n",
    "    mean, std = df[feat_name].mean(), df[feat_name].std()\n",
    "    p_x_given_y = (1 / (np.sqrt(2 * np.pi) * std)) *  np.exp(-((feat_val-mean)**2 / (2 * std**2 )))\n",
    "    return p_x_given_y\n",
    "\n",
    "def naive_bayes_gaussian(df, X, Y):\n",
    "    # get feature names\n",
    "    features = list(df.columns)[:-1]\n",
    "\n",
    "    # calculate prior\n",
    "    prior = calculate_prior(df, Y)\n",
    "\n",
    "    Y_pred = []\n",
    "    # loop over every data sample\n",
    "    for x in X:\n",
    "        # calculate likelihood\n",
    "        labels = sorted(list(df[Y].unique()))\n",
    "        likelihood = [1]*len(labels)\n",
    "        for j in range(len(labels)):\n",
    "            for i in range(len(features)):\n",
    "                likelihood[j] *= calculate_likelihood_gaussian(df, features[i], x[i], Y, labels[j])\n",
    "\n",
    "        # calculate posterior probability (numerator only)\n",
    "        post_prob = [1]*len(labels)\n",
    "        for j in range(len(labels)):\n",
    "            post_prob[j] = likelihood[j] * prior[j]\n",
    "\n",
    "        Y_pred.append(np.argmax(post_prob))\n",
    "\n",
    "    return np.array(Y_pred) "
   ]
  },
  {
   "cell_type": "markdown",
   "metadata": {},
   "source": [
    "4. Train and test the model"
   ]
  },
  {
   "cell_type": "code",
   "execution_count": 81,
   "metadata": {},
   "outputs": [
    {
     "name": "stdout",
     "output_type": "stream",
     "text": [
      "Starting Naive Bayes classification...\n",
      "Done!\n",
      "Naive Bayes classification accuracy 0.8208469055374593\n",
      "False positives: 140\n",
      "False negatives: 25\n",
      "True positives: 365\n",
      "True negatives: 391\n",
      "Sklearn's Naive Bayes classification accuracy 0.8208469055374593\n",
      "False positives: 144\n",
      "False negatives: 21\n",
      "True positives: 369\n",
      "True negatives: 387\n"
     ]
    }
   ],
   "source": [
    "# split data into train and test sets, make sure to have spam and non-spam in both sets\n",
    "from sklearn.model_selection import train_test_split\n",
    "# transform spambaes to pandas dataframe\n",
    "data = pd.DataFrame(X)\n",
    "data['spam'] = y\n",
    "train, test = train_test_split(data, test_size=0.2, random_state=42)\n",
    "\n",
    "# train model\n",
    "X_test = test.iloc[:,:-1].values\n",
    "y_test = test.iloc[:,-1].values\n",
    "X_train = train.iloc[:,:-1].values\n",
    "y_train = train.iloc[:,-1].values\n",
    "\n",
    "print(\"Starting Naive Bayes classification...\")\n",
    "predictions = naive_bayes_gaussian(train, X_test, 'spam')\n",
    "print(\"Done!\")\n",
    "\n",
    "# evaluate model\n",
    "from sklearn.metrics import accuracy_score\n",
    "print(\"Naive Bayes classification accuracy\", accuracy_score(y_test, predictions))\n",
    "\n",
    "print(\"False positives:\", np.sum((predictions==1) & (y_test==0)))\n",
    "print(\"False negatives:\", np.sum((predictions==0) & (y_test==1)))\n",
    "print(\"True positives:\", np.sum((predictions==1) & (y_test==1)))\n",
    "print(\"True negatives:\", np.sum((predictions==0) & (y_test==0)))\n",
    "\n",
    "# compare with sklearn's implementation\n",
    "from sklearn.naive_bayes import GaussianNB\n",
    "gnb = GaussianNB()\n",
    "gnb.fit(X_train, y_train)\n",
    "predictions = gnb.predict(X_test)\n",
    "\n",
    "print(\"Sklearn's Naive Bayes classification accuracy\", accuracy_score(y_test, predictions))\n",
    "print(\"False positives:\", np.sum((predictions==1) & (y_test==0)))\n",
    "print(\"False negatives:\", np.sum((predictions==0) & (y_test==1)))\n",
    "print(\"True positives:\", np.sum((predictions==1) & (y_test==1)))\n",
    "print(\"True negatives:\", np.sum((predictions==0) & (y_test==0)))\n",
    "\n"
   ]
  },
  {
   "cell_type": "code",
   "execution_count": null,
   "metadata": {},
   "outputs": [],
   "source": []
  }
 ],
 "metadata": {
  "kernelspec": {
   "display_name": "Python 3",
   "language": "python",
   "name": "python3"
  },
  "language_info": {
   "codemirror_mode": {
    "name": "ipython",
    "version": 3
   },
   "file_extension": ".py",
   "mimetype": "text/x-python",
   "name": "python",
   "nbconvert_exporter": "python",
   "pygments_lexer": "ipython3",
   "version": "3.10.11"
  }
 },
 "nbformat": 4,
 "nbformat_minor": 2
}
